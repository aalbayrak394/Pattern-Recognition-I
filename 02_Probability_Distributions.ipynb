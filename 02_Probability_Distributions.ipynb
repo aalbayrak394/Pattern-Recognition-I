{
  "cells": [
    {
      "cell_type": "markdown",
      "metadata": {
        "id": "om6ojcrGnmHM"
      },
      "source": [
        "# Probability Distributions\n",
        "\n",
        "**Density Estimation**:\n",
        "Modeling the probability distribution $p(\\mathbf{x})$ of a random variable $\\mathbf{x}$, given a finite set $\\mathbf{x}_1, \\dots, \\mathbf{x}_N$ of observations.\n",
        "For this task of density estimation, we assume that these data points are independently and identically distributed (i. i. d.).\n",
        "\n",
        "### Table of Contents\n",
        "1. [Setup](#setup)\n",
        "2. [Binary Variables](#binary)\n",
        "3. [Mulitnomial Variables (Optional)](#multinomial)\n",
        "4. [Gaussian Distribution](#gaussian)\n",
        "5. [Nonparametric Methods](#kde)"
      ]
    },
    {
      "cell_type": "markdown",
      "metadata": {
        "id": "0L631k4NnmHO"
      },
      "source": [
        "## Setup <a class=\"anchor\" id=\"setup\"></a>"
      ]
    },
    {
      "cell_type": "code",
      "execution_count": 2,
      "metadata": {
        "id": "JdNIK6HMnmHQ"
      },
      "outputs": [
        {
          "name": "stdout",
          "output_type": "stream",
          "text": [
            "Intel MKL WARNING: Support of Intel(R) Streaming SIMD Extensions 4.2 (Intel(R) SSE4.2) enabled only processors has been deprecated. Intel oneAPI Math Kernel Library 2025.0 will require Intel(R) Advanced Vector Extensions (Intel(R) AVX) instructions.\n",
            "Intel MKL WARNING: Support of Intel(R) Streaming SIMD Extensions 4.2 (Intel(R) SSE4.2) enabled only processors has been deprecated. Intel oneAPI Math Kernel Library 2025.0 will require Intel(R) Advanced Vector Extensions (Intel(R) AVX) instructions.\n"
          ]
        }
      ],
      "source": [
        "import numpy as np\n",
        "import pylab as plt\n",
        "from ipywidgets import interact\n",
        "\n",
        "def get_data(n_samples=20):\n",
        "    np.random.seed(0)\n",
        "    return (np.random.rand(n_samples) > 0.5).astype(int)\n",
        "\n",
        "def get_data_kde():\n",
        "    X = np.r_[np.random.normal(-3, 1, 50), np.random.normal(3, 1, 50)]\n",
        "    return X"
      ]
    },
    {
      "cell_type": "markdown",
      "metadata": {
        "id": "QX7MGYaZnmHR"
      },
      "source": [
        "## Binary Variables <a class=\"anchor\" id=\"binary\"></a>\n",
        "### Bernoulli Distribution\n",
        "- Implement a class representing the `BernoulliDistribution`. It should contain the following methods:\n",
        "  - `__init__(self, mu)` - Initialization method that verifies that $0 \\leq \\mu \\leq 1$.\n",
        "  - `prob(self, x)` - Should return the probability of a binary sample $x \\in \\{0, 1\\}$: $$\\operatorname{Bern}(x \\mid \\mu)=\\mu^{x}(1-\\mu)^{1-x}.$$\n",
        "  - `log_prob(self, x)` - Should return the log-probability of a binary sample: $$\\ln \\operatorname{Bern}(x \\mid \\mu)= \\ln \\left(\\mu^{x}(1-\\mu)^{1-x} \\right)$$\n",
        "  This equation should be simplified."
      ]
    },
    {
      "cell_type": "code",
      "execution_count": 3,
      "metadata": {
        "id": "rq5xf46fnmHS"
      },
      "outputs": [
        {
          "data": {
            "text/plain": [
              "(0.8, -0.2231435513142097)"
            ]
          },
          "execution_count": 3,
          "metadata": {},
          "output_type": "execute_result"
        }
      ],
      "source": [
        "# Bernoulli distribution\n",
        "class BernoulliDistribution:\n",
        "    def __init__(self, mu):\n",
        "        assert 0 <= mu <= 1, 'Value for mu must be between 0 and 1.'\n",
        "        self.mu = mu\n",
        "\n",
        "    def prob(self, x):\n",
        "        return (self.mu**x) * (1 - self.mu)**(1-x)\n",
        "\n",
        "    def log_prob(self, x):\n",
        "        return np.log(self.prob(x))\n",
        "\n",
        "bern = BernoulliDistribution(mu=0.2)\n",
        "bern.prob(0), bern.log_prob(0)  # Should return (0.8, -0.2231435513142097)"
      ]
    },
    {
      "cell_type": "markdown",
      "metadata": {
        "id": "WmGK6aF_nmHS"
      },
      "source": [
        "Consider the following observations:"
      ]
    },
    {
      "cell_type": "code",
      "execution_count": 4,
      "metadata": {
        "id": "dHPoXf6WnmHT"
      },
      "outputs": [],
      "source": [
        "X = get_data()"
      ]
    },
    {
      "cell_type": "markdown",
      "metadata": {
        "id": "mRDfXumXnmHU"
      },
      "source": [
        "On the assumption that the observations are drawn independently, we can construct the likelihood function\n",
        "$$p(\\mathcal{D} \\mid \\mu)=\\prod_{n=1}^{N} p\\left(x_{n} \\mid \\mu\\right)=\\prod_{n=1}^{N} \\mu^{x_{n}}(1-\\mu)^{1-x_{n}}.$$\n",
        "- Implement a function `likelihood` defining the equation above."
      ]
    },
    {
      "cell_type": "code",
      "execution_count": 6,
      "metadata": {
        "id": "nhTYRxtpnmHV"
      },
      "outputs": [
        {
          "data": {
            "text/plain": [
              "0.125"
            ]
          },
          "execution_count": 6,
          "metadata": {},
          "output_type": "execute_result"
        }
      ],
      "source": [
        "# Specify a Likelihood based on the data\n",
        "def likelihood(mu, X):\n",
        "    bernoulli_dist = BernoulliDistribution(mu=mu)\n",
        "    lh = 1\n",
        "    for x in X:\n",
        "        lh *= bernoulli_dist.prob(x)\n",
        "\n",
        "    return lh\n",
        "\n",
        "likelihood(.5, [1, 1, 1])  # Should return 0.125"
      ]
    },
    {
      "cell_type": "markdown",
      "metadata": {
        "id": "7M3zVQipnmHW"
      },
      "source": [
        "The resulting likelihood may show a tiny values, which may lead to numerical problems during the optimization (e.g., when we have big number of samples). To ensure numerical stability as well as ease further calculation, we will make use of the logarithm as it does not change the optimum of a function.\n",
        "- Implement a function `log_likelihood` returning the log likelihood."
      ]
    },
    {
      "cell_type": "code",
      "execution_count": 15,
      "metadata": {
        "id": "st4GhqHtnmHW"
      },
      "outputs": [
        {
          "data": {
            "text/plain": [
              "-2.0794415416798357"
            ]
          },
          "execution_count": 15,
          "metadata": {},
          "output_type": "execute_result"
        }
      ],
      "source": [
        "# Specify a Likelihood based on the data\n",
        "def log_likelihood(mu, X):\n",
        "    return np.log(likelihood(mu=mu, X=X)) # one solution  \n",
        "\n",
        "log_likelihood(0.5, [1, 1, 1])  # Should return -2.0794415416798357"
      ]
    },
    {
      "cell_type": "markdown",
      "metadata": {
        "id": "ipBjZDennmHX"
      },
      "source": [
        "- Plot the two different likelihood functions for different values of $0 \\leq \\mu \\leq 1$."
      ]
    },
    {
      "cell_type": "code",
      "execution_count": 23,
      "metadata": {
        "id": "D6NF4xWwnmHX"
      },
      "outputs": [
        {
          "name": "stderr",
          "output_type": "stream",
          "text": [
            "/var/folders/0p/nmvxp1px72q3ml7745bcbn9m0000gn/T/ipykernel_3861/3412962023.py:3: RuntimeWarning: divide by zero encountered in log\n",
            "  return np.log(likelihood(mu=mu, X=X)) # one solution\n"
          ]
        },
        {
          "data": {
            "image/png": "[encoded data removed]",
            "text/plain": [
              "<Figure size 1500x500 with 2 Axes>"
            ]
          },
          "metadata": {},
          "output_type": "display_data"
        }
      ],
      "source": [
        "axis = np.linspace(0, 1, 201)\n",
        "\n",
        "plt.figure(figsize=(15,5))\n",
        "plt.subplot(121)\n",
        "plt.title('Likelihood')\n",
        "lh_list = [likelihood(X=X, mu=mu) for mu in axis]\n",
        "plt.plot(axis, lh_list)\n",
        "\n",
        "plt.subplot(122)\n",
        "plt.title('Log Likelihood')\n",
        "llh_list = [log_likelihood(X=X, mu=mu) for mu in axis]\n",
        "plt.plot(axis, llh_list)\n",
        "\n",
        "plt.show()"
      ]
    },
    {
      "cell_type": "markdown",
      "metadata": {
        "id": "wquEeixJnmHY"
      },
      "source": [
        "If we set the derivative of $\\ln p(\\mathcal{D} | \\mu)$ with respect to $\\mu$ equal to zero, we obtain the maximum likelihood estimator $$\\mu_{\\mathrm{ML}}=\\frac{1}{N} \\sum_{n=1}^{N} x_{n}.$$\n",
        "- Compute the maximum likelihood estimator using our observations and verify visually that it corresponds to the maximum in both plots."
      ]
    },
    {
      "cell_type": "code",
      "execution_count": 19,
      "metadata": {
        "id": "WoTnCrZ9nmHY"
      },
      "outputs": [
        {
          "data": {
            "text/plain": [
              "0.7000000000000001"
            ]
          },
          "execution_count": 19,
          "metadata": {},
          "output_type": "execute_result"
        }
      ],
      "source": [
        "# ML Solution\n",
        "N = len(X)\n",
        "mu_ml = (1/N) * np.sum(X)\n",
        "mu_ml"
      ]
    },
    {
      "cell_type": "markdown",
      "metadata": {
        "id": "N3QhRH8CnmHY"
      },
      "source": [
        "### Binomial Distribution\n",
        "- Implement the class `BinomialDistribution` containing the following methods:\n",
        "  - `__init__(self, n, mu)` - Initialization method saving parameters and verifying their domain.\n",
        "  - `prob(self, x)` - Should return the probability:  $$\\operatorname{Bin}(m \\mid N, \\mu)=\\left(\\begin{array}{l} N \\\\ m \\end{array}\\right) \\mu^{m}(1-\\mu)^{N-m}.$$\n",
        "  The normalization coefficient $$ \\left(\\begin{array}{l} N \\\\ m \\end{array}\\right) \\equiv \\frac{N !}{(N-m) ! m !}$$ can be implemented using `np.math.factorial`."
      ]
    },
    {
      "cell_type": "code",
      "execution_count": 38,
      "metadata": {},
      "outputs": [],
      "source": [
        "# np.math.factorial is deprecated, use math.factorial instead\n",
        "from math import gamma, factorial as fact"
      ]
    },
    {
      "cell_type": "code",
      "execution_count": 28,
      "metadata": {
        "id": "2GN-dQZonmHZ"
      },
      "outputs": [
        {
          "data": {
            "text/plain": [
              "0.24609375"
            ]
          },
          "execution_count": 28,
          "metadata": {},
          "output_type": "execute_result"
        }
      ],
      "source": [
        "class BinomialDistribution:\n",
        "    def __init__(self, n, mu):\n",
        "        self.n = n\n",
        "        self.mu = mu\n",
        "\n",
        "    def prob(self, x):\n",
        "        norm_factor = fact(self.n) / (fact(self.n-x) * fact(x))\n",
        "        return norm_factor * self.mu**x * (1 - self.mu)**(self.n - x)\n",
        "\n",
        "binom = BinomialDistribution(10 , .5)\n",
        "binom.prob(5)  # Should return 0.24609375"
      ]
    },
    {
      "cell_type": "markdown",
      "metadata": {
        "id": "Ogk1JBpAnmHZ"
      },
      "source": [
        "- Plot the binomial distribution ($N=10, \\mu=.25$) by using a bar plot."
      ]
    },
    {
      "cell_type": "code",
      "execution_count": 37,
      "metadata": {
        "id": "uaO17kDYnmHa"
      },
      "outputs": [
        {
          "data": {
            "image/png": "[encoded data removed]",
            "text/plain": [
              "<Figure size 700x300 with 1 Axes>"
            ]
          },
          "metadata": {},
          "output_type": "display_data"
        }
      ],
      "source": [
        "binom = BinomialDistribution(10 , .25)\n",
        "dist = np.array([binom.prob(x) for x in range(11)])\n",
        "plt.figure(figsize=(7,3))\n",
        "plt.bar(np.arange(11), dist)\n",
        "plt.show()"
      ]
    },
    {
      "cell_type": "markdown",
      "metadata": {
        "id": "7jiM0IxBnmHa"
      },
      "source": [
        "### Beta Distribution\n",
        "- Implement the class `BetaDistribution` containing the following methods:\n",
        "  - `__init__(self, a, b)` - Initialization method saving parameters and verifying their domain.\n",
        "  - `prob(self, x)` - Should return the probability: $$\\operatorname{Beta}(\\mu \\mid a, b)=\\frac{\\Gamma(a+b)}{\\Gamma(a) \\Gamma(b)} \\mu^{a-1}(1-\\mu)^{b-1}$$\n",
        "  The normalization coefficient $$ \\frac{\\Gamma(a+b)}{\\Gamma(a) \\Gamma(b)}$$ can be implemented using `np.math.gamma`."
      ]
    },
    {
      "cell_type": "code",
      "execution_count": 39,
      "metadata": {
        "id": "8ZgO7L_RnmHa"
      },
      "outputs": [
        {
          "data": {
            "text/plain": [
              "0.75"
            ]
          },
          "execution_count": 39,
          "metadata": {},
          "output_type": "execute_result"
        }
      ],
      "source": [
        "class BetaDistribution:\n",
        "    def __init__(self, a, b):\n",
        "        self.a = a\n",
        "        self.b = b\n",
        "\n",
        "    def prob(self, x):\n",
        "        norm_factor = gamma(self.a + self.b) / (gamma(self.a) * gamma(self.b))\n",
        "        return norm_factor * x**(self.a - 1) * (1-x)**(self.b - 1)\n",
        "\n",
        "\n",
        "beta = BetaDistribution(1, 3)\n",
        "beta.prob(.5)  # Should return 0.75"
      ]
    },
    {
      "cell_type": "markdown",
      "metadata": {
        "id": "JnZVCU7vnmHa"
      },
      "source": [
        "- Plot the distribution for the given parameter settings:\n",
        "  - $a=0.1\\quad b=0.1$\n",
        "  - $a=1\\quad b=1$\n",
        "  - $a=2\\quad b=3$\n",
        "  - $a=8\\quad b=4$"
      ]
    },
    {
      "cell_type": "code",
      "execution_count": null,
      "metadata": {
        "id": "rzlexuiOnmHb"
      },
      "outputs": [],
      "source": [
        "axis = np.linspace(1e-2, 1-1e-2, 201)\n",
        "\n",
        "plt.subplot(221)\n",
        "plt.title('a = {}, b = {}'.format(0.1, 0.1))\n",
        "####################\n",
        "# Your Code Here   #\n",
        "####################\n",
        "\n",
        "plt.subplot(222)\n",
        "plt.title('a = {}, b = {}'.format(1, 1))\n",
        "beta = BetaDistribution(1, 1)\n",
        "plt.plot(axis, [beta.prob(x) for x in axis])\n",
        "### ENDSOLUTION ###\n",
        "\n",
        "plt.subplot(223)\n",
        "plt.title('a = {}, b = {}'.format(2, 3))\n",
        "####################\n",
        "# Your Code Here   #\n",
        "####################\n",
        "\n",
        "plt.subplot(224)\n",
        "plt.title('a = {}, b = {}'.format(8, 4))\n",
        "####################\n",
        "# Your Code Here   #\n",
        "####################\n",
        "plt.tight_layout()\n",
        "plt.show()"
      ]
    },
    {
      "cell_type": "markdown",
      "metadata": {
        "id": "lHSe19GCnmHb"
      },
      "source": [
        "### Bayesian Approach for Parameter Estimation\n",
        "In a Bayesian approach, the posterior distribution of $\\mu$ is now determined by multiplying the prior distribution $\\operatorname{Beta}(\\mu \\mid a, b)$ with the likelihood function $\\operatorname{Bin}(m \\mid N, \\mu)$ and subsequent normalization.\n",
        "\n",
        "The observations below encode a coin toss ($0$ = tails, $1$ = heads):"
      ]
    },
    {
      "cell_type": "code",
      "execution_count": null,
      "metadata": {
        "id": "CzzUJGc0nmHb"
      },
      "outputs": [],
      "source": [
        "X = [1, 1, 1]"
      ]
    },
    {
      "cell_type": "markdown",
      "metadata": {
        "id": "KeBsOXX5nmHc"
      },
      "source": [
        "- Define a meaningful prior distribution\n",
        "- Define the likelihood function\n",
        "- Define the posterior distribution"
      ]
    },
    {
      "cell_type": "code",
      "execution_count": null,
      "metadata": {
        "id": "zH3bua9_nmHc"
      },
      "outputs": [],
      "source": [
        "####################\n",
        "# Your Code Here   #\n",
        "####################"
      ]
    },
    {
      "cell_type": "code",
      "execution_count": null,
      "metadata": {
        "id": "6EspuSPmnmHc"
      },
      "outputs": [],
      "source": [
        "plt.figure(figsize=(10, 5))\n",
        "axis = np.linspace(1e-2, 1-1e-2, 201)\n",
        "\n",
        "plt.subplot(131)\n",
        "####################\n",
        "# Your Code Here   #\n",
        "####################\n",
        "\n",
        "plt.subplot(132)\n",
        "####################\n",
        "# Your Code Here   #\n",
        "####################\n",
        "\n",
        "plt.subplot(133)\n",
        "####################\n",
        "# Your Code Here   #\n",
        "####################\n",
        "\n",
        "plt.tight_layout()\n",
        "plt.show()"
      ]
    },
    {
      "cell_type": "markdown",
      "metadata": {
        "id": "ULyJ2L_LnmHc"
      },
      "source": [
        "If our goal is to predict, as best we can, the outcome of the next trial, then we must evaluate the predictive distribution of $x$, given the observed data set $\\mathcal{D}$. From the sum and product rules of probability, follows\n",
        "$$p(x=1 \\mid \\mathcal{D})=\\int_{0}^{1} p(x=1 \\mid \\mu) p(\\mu \\mid \\mathcal{D}) \\mathrm{d} \\mu=\\int_{0}^{1} \\mu p(\\mu \\mid \\mathcal{D}) \\mathrm{d} \\mu=\\mathbb{E}[\\mu \\mid \\mathcal{D}]$$\n",
        "\n",
        "That is, the optimal prediction for $1$ is given by the mean of the beta distribution:\n",
        "$$p(x=1 \\mid \\mathcal{D})=\\frac{m+a}{m+a+l+b}$$\n",
        "- Implement a `predict` function that uses the parameters of the posterior distribution to make predictions."
      ]
    },
    {
      "cell_type": "code",
      "execution_count": null,
      "metadata": {
        "id": "58hTtgavnmHc"
      },
      "outputs": [],
      "source": [
        "####################\n",
        "# Your Code Here   #\n",
        "####################\n",
        "predict(1, posterior_distribution)"
      ]
    },
    {
      "cell_type": "code",
      "execution_count": null,
      "metadata": {
        "id": "h5916UV6nmHd"
      },
      "outputs": [],
      "source": [
        "####################\n",
        "# Your Code Here   #\n",
        "####################"
      ]
    },
    {
      "cell_type": "markdown",
      "metadata": {
        "id": "mSyERzWEnmHd"
      },
      "source": [
        "## Multinomial Variables (Optional) <a class=\"anchor\" id=\"multinomial\"></a>\n",
        "* Implement the following distributions:"
      ]
    },
    {
      "cell_type": "markdown",
      "metadata": {
        "id": "yPFFQ9CgnmHd"
      },
      "source": [
        "### Categorical Distribution\n",
        "$$p(\\mathbf{x} \\mid \\boldsymbol{\\mu})=\\prod_{k=1}^{K} \\mu_{k}^{x_{k}}$$"
      ]
    },
    {
      "cell_type": "code",
      "execution_count": null,
      "metadata": {
        "id": "znhCkI3xnmHd"
      },
      "outputs": [],
      "source": [
        "# Generalization Bernoulli\n",
        "class Categorical:\n",
        "    def __init__(self, mu):\n",
        "####################\n",
        "# Your Code Here   #\n",
        "####################\n",
        "\n",
        "    def prob(self, x):\n",
        "####################\n",
        "# Your Code Here   #\n",
        "####################\n",
        "\n",
        "cat_dist = Categorical(mu=[.5, .5, 0])\n",
        "cat_dist.prob([0, 1, 0])"
      ]
    },
    {
      "cell_type": "markdown",
      "metadata": {
        "id": "TqEPec6gnmHe"
      },
      "source": [
        "### Multinomial Distribution\n",
        "$$\n",
        "\\operatorname{Mult}\\left(m_{1}, m_{2}, \\ldots, m_{K} \\mid \\boldsymbol{\\mu}, N\\right)=\\left(\\begin{array}{c}\n",
        "N \\\\\n",
        "m_{1}, m_{2}, \\ldots, m_{k}\n",
        "\\end{array}\\right) \\prod_{k=1}^{K} \\mu_{k}^{m_{k}}\n",
        "$$"
      ]
    },
    {
      "cell_type": "code",
      "execution_count": null,
      "metadata": {
        "id": "8fC3e8-1nmHe"
      },
      "outputs": [],
      "source": [
        "class Multinomial:\n",
        "    def __init__(self, mu, n):\n",
        "####################\n",
        "# Your Code Here   #\n",
        "####################\n",
        "\n",
        "    def prob(self, x):\n",
        "####################\n",
        "# Your Code Here   #\n",
        "####################\n",
        "\n",
        "mult = Multinomial([.2, .3, .5], 6)\n",
        "mult.prob([1, 2, 3])  #  should be 0.13499999999999998"
      ]
    },
    {
      "cell_type": "markdown",
      "metadata": {
        "id": "dEU9ItkpnmHe"
      },
      "source": [
        "### Dirichlet Distribution\n",
        "$$\\operatorname{Dir}(\\boldsymbol{\\mu} \\mid \\boldsymbol{\\alpha})=\\frac{\\Gamma\\left(\\alpha_{0}\\right)}{\\Gamma\\left(\\alpha_{1}\\right) \\cdots \\Gamma\\left(\\alpha_{K}\\right)} \\prod_{k=1}^{K} \\mu_{k}^{\\alpha_{k}-1}$$\n",
        "where $\\alpha_{0}=\\sum_{k=1}^{K} \\alpha_{k}$"
      ]
    },
    {
      "cell_type": "code",
      "execution_count": null,
      "metadata": {
        "id": "f0_72tZfnmHe"
      },
      "outputs": [],
      "source": [
        "class Dirichlet:\n",
        "    def __init__(self, alpha):\n",
        "####################\n",
        "# Your Code Here   #\n",
        "####################\n",
        "\n",
        "    def prob(self, x):\n",
        "####################\n",
        "# Your Code Here   #\n",
        "####################\n",
        "\n",
        "dirichlet = Dirichlet([.5, .5, .5])\n",
        "dirichlet.prob([.1, .1, .8]) # should be 1.7794063585429432"
      ]
    },
    {
      "cell_type": "markdown",
      "metadata": {
        "id": "zqejR9GsnmHf"
      },
      "source": [
        "## Gaussian Distribution <a class=\"anchor\" id=\"gaussian\"></a>\n",
        "* Implement the following distributions:\n",
        "$$\\mathcal{N}\\left(x \\mid \\mu, \\sigma^{2}\\right)=\\frac{1}{\\left(2 \\pi \\sigma^{2}\\right)^{1 / 2}} \\exp \\left\\{-\\frac{1}{2 \\sigma^{2}}(x-\\mu)^{2}\\right\\}$$"
      ]
    },
    {
      "cell_type": "code",
      "execution_count": null,
      "metadata": {
        "id": "4JXFkalCnmHf"
      },
      "outputs": [],
      "source": [
        "class Gaussian:\n",
        "    def __init__(self, mu, sigma):\n",
        "####################\n",
        "# Your Code Here   #\n",
        "####################\n",
        "\n",
        "    def prob(self, x):\n",
        "####################\n",
        "# Your Code Here   #\n",
        "####################\n",
        "\n",
        "gaussian = Gaussian(0, 1)\n",
        "gaussian.prob(0)  # should be 0.3989422804014327"
      ]
    },
    {
      "cell_type": "markdown",
      "metadata": {
        "id": "gmIeFfsUnmHf"
      },
      "source": [
        "$$\\mathcal{N}(\\mathbf{x} \\mid \\boldsymbol{\\mu}, \\mathbf{\\Sigma})=\\frac{1}{(2 \\pi)^{D / 2}} \\frac{1}{|\\mathbf{\\Sigma}|^{1 / 2}} \\exp \\left\\{-\\frac{1}{2}(\\mathbf{x}-\\boldsymbol{\\mu})^{\\mathrm{T}} \\boldsymbol{\\Sigma}^{-1}(\\mathbf{x}-\\boldsymbol{\\mu})\\right\\}$$"
      ]
    },
    {
      "cell_type": "code",
      "execution_count": null,
      "metadata": {
        "id": "jEa_s-DunmHf"
      },
      "outputs": [],
      "source": [
        "class MultivariateGaussian:\n",
        "    def __init__(self, mu, cov):\n",
        "####################\n",
        "# Your Code Here   #\n",
        "####################\n",
        "\n",
        "    def prob(self, x):\n",
        "####################\n",
        "# Your Code Here   #\n",
        "####################\n",
        "\n",
        "multivariate_gaussian= MultivariateGaussian([0, 0], [[1, 0], [0, 1]])\n",
        "multivariate_gaussian.prob([0, 0])  # should be 0.15915494309189535"
      ]
    },
    {
      "cell_type": "markdown",
      "metadata": {
        "id": "IBv0F04TnmHf"
      },
      "source": [
        "## Nonparametric Methods <a class=\"anchor\" id=\"kde\"></a>\n",
        "Observations are being drawn from some unknown probability density $p(\\mathbf{x})$ in some $D$-dimensional space, which we shall assume to be Euclidean.\n",
        "Goal: Estimate the value of $p(\\mathbf{x})$.\n",
        "\n",
        "### Kernel Density Estimators\n",
        "As shown in the lecture, we can estimate the density by $$p(\\mathbf{x})=\\frac{K}{N V}$$ where\n",
        "- $N$ is the number of observations,\n",
        "- $K$ is the number of observations that lie inside some region $\\mathcal{R}$, and\n",
        "- $V$ is the volume of region $\\mathcal{R}$.\n",
        "\n",
        "By fixing $V$ and determining $K$ from the data, we obtain the *kernel density estimator*.\n",
        "\n",
        "For the kernel density method, we assume that the region $\\mathcal{R}$ is a small hypercube that has its center at the point $\\mathbf{x}$ for which the density is to be determined.\n",
        "\n",
        "In order to count the number $K$ of points falling within this region, it is convenient to define the following function:\n",
        "\n",
        "$$k(\\mathbf{u})=\\left\\{\\begin{array}{ll}\n",
        "1, & \\left|u_{i}\\right| \\leq 1 / 2, \\quad i=1, \\ldots, D \\\\\n",
        "0, & \\text { otherwise }\n",
        "\\end{array}\\right.$$\n",
        "which represents a unit cube centered on the origin.\n",
        "\n",
        "For the given data set, the total number of data points lying inside this cube will therefore be\n",
        "\n",
        "$$K=\\sum_{n=1}^{N} k\\left(\\frac{\\mathbf{x}-\\mathbf{x}_{n}}{h}\\right)$$\n",
        "\n",
        "When substituted into the estimation formula $p(x) =K/(NV)$, the following result is obtained for estimating the density at point $\\mathbf{x}$:\n",
        "\n",
        "$$p(\\mathbf{x})=\\frac{1}{N} \\sum_{n=1}^{N} \\frac{1}{h^{D}} k\\left(\\frac{\\mathbf{x}-\\mathbf{x}_{n}}{h}\\right)$$\n",
        "where we have used $V=h^D$ for the volume of a hypercube of side $h$ in $D$ dimensions.\n",
        "\n",
        "- Implement the kernel density estimator we described above for the following observations."
      ]
    },
    {
      "cell_type": "code",
      "execution_count": null,
      "metadata": {
        "id": "HXRFj5-onmHg"
      },
      "outputs": [],
      "source": [
        "X = get_data_kde()"
      ]
    },
    {
      "cell_type": "code",
      "execution_count": null,
      "metadata": {
        "id": "-vyQEUa7nmHg"
      },
      "outputs": [],
      "source": [
        "####################\n",
        "# Your Code Here   #\n",
        "####################"
      ]
    },
    {
      "cell_type": "markdown",
      "metadata": {
        "id": "MrS0rt5vnmHg"
      },
      "source": [
        "- Plot the data using a histogram and plot the density using your implemented kernel density estimator."
      ]
    },
    {
      "cell_type": "code",
      "execution_count": null,
      "metadata": {
        "id": "-BRXhN-cnmHh"
      },
      "outputs": [],
      "source": [
        "####################\n",
        "# Your Code Here   #\n",
        "####################"
      ]
    }
  ],
  "metadata": {
    "colab": {
      "provenance": []
    },
    "kernelspec": {
      "display_name": "Python 3",
      "language": "python",
      "name": "python3"
    },
    "language_info": {
      "codemirror_mode": {
        "name": "ipython",
        "version": 3
      },
      "file_extension": ".py",
      "mimetype": "text/x-python",
      "name": "python",
      "nbconvert_exporter": "python",
      "pygments_lexer": "ipython3",
      "version": "3.9.18"
    },
    "toc-autonumbering": true
  },
  "nbformat": 4,
  "nbformat_minor": 0
}
